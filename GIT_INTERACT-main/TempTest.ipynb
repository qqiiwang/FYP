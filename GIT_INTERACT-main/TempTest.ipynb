{
 "cells": [
  {
   "cell_type": "markdown",
   "metadata": {},
   "source": [
    "# 测试代码可行性"
   ]
  },
  {
   "cell_type": "code",
   "execution_count": null,
   "metadata": {},
   "outputs": [],
   "source": [
    "import os"
   ]
  },
  {
   "cell_type": "code",
   "execution_count": 5,
   "metadata": {},
   "outputs": [
    {
     "name": "stdout",
     "output_type": "stream",
     "text": [
      "D://myCode/PYTHON_file/Surf\n",
      "\n"
     ]
    }
   ],
   "source": [
    "print(os.path.split(\"D://myCode/PYTHON_file/Surf/测试网络请求的图片识别\")[0])\n",
    "print(os.path.split(\"\")[0])"
   ]
  },
  {
   "cell_type": "code",
   "execution_count": 2,
   "metadata": {},
   "outputs": [
    {
     "name": "stdout",
     "output_type": "stream",
     "text": [
      "BigFolder\\SmallFolder\n"
     ]
    }
   ],
   "source": [
    "import base64\n",
    "\n",
    "def str2base64str(sentence):\n",
    "    return base64.b64encode(sentence.encode('utf8')).decode('utf8')\n",
    "\n",
    "def base64str2str(b64str):\n",
    "    return base64.b64decode(b64str).decode('utf8')\n",
    "\n",
    "print(base64str2str(\"QmlnRm9sZGVyXFNtYWxsRm9sZGVy\"))"
   ]
  },
  {
   "cell_type": "markdown",
   "metadata": {},
   "source": [
    "消息队列"
   ]
  },
  {
   "cell_type": "code",
   "execution_count": 2,
   "metadata": {},
   "outputs": [],
   "source": [
    "from redis import StrictRedis\n",
    "\n",
    "\n",
    "conn=StrictRedis(\"127.0.0.1\",6379,db=2,decode_responses=True)\n"
   ]
  },
  {
   "cell_type": "code",
   "execution_count": 23,
   "metadata": {},
   "outputs": [],
   "source": [
    "# 添加消息\n",
    "for i in range(10):\n",
    "    stream_id=conn.xadd(\"mq_group\",{\"name\":\"mrli\",\"flag\":i})"
   ]
  },
  {
   "cell_type": "code",
   "execution_count": 24,
   "metadata": {},
   "outputs": [
    {
     "data": {
      "text/plain": [
       "10"
      ]
     },
     "execution_count": 24,
     "metadata": {},
     "output_type": "execute_result"
    }
   ],
   "source": [
    "# 查询长度\n",
    "conn.xlen(\"mq_group\")"
   ]
  },
  {
   "cell_type": "code",
   "execution_count": 21,
   "metadata": {},
   "outputs": [
    {
     "data": {
      "text/plain": [
       "1"
      ]
     },
     "execution_count": 21,
     "metadata": {},
     "output_type": "execute_result"
    }
   ],
   "source": [
    "# 删除整个消费者组\n",
    "conn.delete(\"mq_group\")"
   ]
  },
  {
   "cell_type": "code",
   "execution_count": 6,
   "metadata": {},
   "outputs": [
    {
     "name": "stdout",
     "output_type": "stream",
     "text": [
      "[]\n"
     ]
    }
   ],
   "source": [
    "# 查询消息队列\n",
    "allmsgs=conn.xrange(\"nameDB\",\"-\",\"+\")\n",
    "print(allmsgs)"
   ]
  },
  {
   "cell_type": "code",
   "execution_count": 18,
   "metadata": {},
   "outputs": [
    {
     "data": {
      "text/plain": [
       "1"
      ]
     },
     "execution_count": 18,
     "metadata": {},
     "output_type": "execute_result"
    }
   ],
   "source": [
    "# 删除一个消息（通过id），（不是读取！）\n",
    "conn.xdel(\"mq_group\",\"1670830836229-0\")"
   ]
  },
  {
   "cell_type": "code",
   "execution_count": 5,
   "metadata": {},
   "outputs": [
    {
     "data": {
      "text/plain": [
       "1"
      ]
     },
     "execution_count": 5,
     "metadata": {},
     "output_type": "execute_result"
    }
   ],
   "source": [
    "# 删除一个消息队列\n",
    "conn.delete('nameDB')"
   ]
  },
  {
   "cell_type": "code",
   "execution_count": 25,
   "metadata": {},
   "outputs": [
    {
     "data": {
      "text/plain": [
       "True"
      ]
     },
     "execution_count": 25,
     "metadata": {},
     "output_type": "execute_result"
    }
   ],
   "source": [
    "# 创建消费者组（好像用不到\n",
    "conn.xgroup_create(\"mq_group\",\"consumergroupA\")"
   ]
  },
  {
   "cell_type": "code",
   "execution_count": 50,
   "metadata": {},
   "outputs": [
    {
     "name": "stdout",
     "output_type": "stream",
     "text": [
      "[['mq_group', [('1670831456053-0', {'name': 'mrli', 'flag': '0'})]]]\n"
     ]
    }
   ],
   "source": [
    "# 消息队列读\n",
    "msg=conn.xread({\"mq_group\":\"1670830836229-1\"},count=1)\n",
    "print(msg)"
   ]
  },
  {
   "cell_type": "code",
   "execution_count": null,
   "metadata": {},
   "outputs": [],
   "source": [
    "from flask_restful import Resource, reqparse\n",
    "from flask import current_app,abort,Response,jsonify \n",
    "import os\n",
    "from utils.gitmanage import clone,log\n",
    "from utils.filemanage import foldertree\n",
    "import time\n",
    "\n",
    "class PushQueue(Resource):\n",
    "    \n",
    "    @staticmethod\n",
    "    def get():\n",
    "        \"\"\"\n",
    "        :param databse_position:\n",
    "        \"\"\"\n",
    "        parse = reqparse.RequestParser()\n",
    "        parse.add_argument('databse_position', type=str, help='must need a databse file position', required=True, trim=True)\n",
    "        parse.add_argument('databse_name', type=str, help='must need a databse name', required=True, trim=True)\n",
    "        \n",
    "        args = parse.parse_args()\n",
    "        file_pos = args['databse_position']\n",
    "        data_name = args['databse_name']\n",
    "        now = int(round(time.time()*1000))\n",
    "        nowstr = time.strftime('%Y-%m-%d %H:%M:%S',time.localtime(now/1000))\n",
    "        # MQ push\n",
    "        conn.xadd(data_name,{\"file_position\":file_pos,\"time\":nowstr})\n",
    "        return Response(\"OK\",status=200)"
   ]
  },
  {
   "cell_type": "markdown",
   "metadata": {},
   "source": [
    "引入GitPython库\n",
    "解决commit时的冲突"
   ]
  },
  {
   "cell_type": "code",
   "execution_count": 1,
   "metadata": {},
   "outputs": [],
   "source": [
    "from git import Repo\n",
    "repo=Repo(\"./storaged/justtest/\")\n",
    "git=repo.git"
   ]
  },
  {
   "cell_type": "code",
   "execution_count": 14,
   "metadata": {},
   "outputs": [
    {
     "data": {
      "text/plain": [
       "<git.Commit \"2c7d34cf4e3a329d08d053624b106e887644a862\">"
      ]
     },
     "execution_count": 14,
     "metadata": {},
     "output_type": "execute_result"
    }
   ],
   "source": [
    "# repo.index.add(\".\")\n",
    "# repo.index.commit(\"by GitRepo\")"
   ]
  },
  {
   "cell_type": "code",
   "execution_count": 9,
   "metadata": {},
   "outputs": [
    {
     "data": {
      "text/plain": [
       "'HEAD is now at 9041de0 Update README.md'"
      ]
     },
     "execution_count": 9,
     "metadata": {},
     "output_type": "execute_result"
    }
   ],
   "source": [
    "git.reset([\"--hard\",\"HEAD^\"])# add也取消了"
   ]
  },
  {
   "cell_type": "markdown",
   "metadata": {},
   "source": [
    "http://www.zztongyun.com/article/git%20%E5%AF%B9%E6%AF%94%E6%9C%AC%E5%9C%B0%E4%B8%8E%E8%BF%9C%E7%AB%AF%E4%BB%A3%E7%A0%81,%E6%95%B4%E5%90%88"
   ]
  },
  {
   "cell_type": "code",
   "execution_count": 7,
   "metadata": {},
   "outputs": [
    {
     "ename": "GitCommandError",
     "evalue": "Cmd('git') failed due to: exit code(1)\n  cmdline: git pull -v origin\n  stderr: 'error: Your local changes to the following files would be overwritten by merge:'",
     "output_type": "error",
     "traceback": [
      "\u001b[1;31m---------------------------------------------------------------------------\u001b[0m",
      "\u001b[1;31mGitCommandError\u001b[0m                           Traceback (most recent call last)",
      "\u001b[1;32m<ipython-input-7-b7edc4ab3ff1>\u001b[0m in \u001b[0;36m<module>\u001b[1;34m()\u001b[0m\n\u001b[0;32m      1\u001b[0m \u001b[0morigin\u001b[0m\u001b[1;33m=\u001b[0m\u001b[0mrepo\u001b[0m\u001b[1;33m.\u001b[0m\u001b[0mremotes\u001b[0m\u001b[1;33m.\u001b[0m\u001b[0morigin\u001b[0m\u001b[1;33m\u001b[0m\u001b[0m\n\u001b[1;32m----> 2\u001b[1;33m \u001b[0morigin\u001b[0m\u001b[1;33m.\u001b[0m\u001b[0mpull\u001b[0m\u001b[1;33m(\u001b[0m\u001b[1;33m)\u001b[0m\u001b[1;33m\u001b[0m\u001b[0m\n\u001b[0m",
      "\u001b[1;32md:\\PYTHON\\lib\\site-packages\\git\\remote.py\u001b[0m in \u001b[0;36mpull\u001b[1;34m(self, refspec, progress, **kwargs)\u001b[0m\n\u001b[0;32m    847\u001b[0m         proc = self.repo.git.pull(self, refspec, with_stdout=False, as_process=True,\n\u001b[0;32m    848\u001b[0m                                   universal_newlines=True, v=True, **kwargs)\n\u001b[1;32m--> 849\u001b[1;33m         \u001b[0mres\u001b[0m \u001b[1;33m=\u001b[0m \u001b[0mself\u001b[0m\u001b[1;33m.\u001b[0m\u001b[0m_get_fetch_info_from_stderr\u001b[0m\u001b[1;33m(\u001b[0m\u001b[0mproc\u001b[0m\u001b[1;33m,\u001b[0m \u001b[0mprogress\u001b[0m\u001b[1;33m)\u001b[0m\u001b[1;33m\u001b[0m\u001b[0m\n\u001b[0m\u001b[0;32m    850\u001b[0m         \u001b[1;32mif\u001b[0m \u001b[0mhasattr\u001b[0m\u001b[1;33m(\u001b[0m\u001b[0mself\u001b[0m\u001b[1;33m.\u001b[0m\u001b[0mrepo\u001b[0m\u001b[1;33m.\u001b[0m\u001b[0modb\u001b[0m\u001b[1;33m,\u001b[0m \u001b[1;34m'update_cache'\u001b[0m\u001b[1;33m)\u001b[0m\u001b[1;33m:\u001b[0m\u001b[1;33m\u001b[0m\u001b[0m\n\u001b[0;32m    851\u001b[0m             \u001b[0mself\u001b[0m\u001b[1;33m.\u001b[0m\u001b[0mrepo\u001b[0m\u001b[1;33m.\u001b[0m\u001b[0modb\u001b[0m\u001b[1;33m.\u001b[0m\u001b[0mupdate_cache\u001b[0m\u001b[1;33m(\u001b[0m\u001b[1;33m)\u001b[0m\u001b[1;33m\u001b[0m\u001b[0m\n",
      "\u001b[1;32md:\\PYTHON\\lib\\site-packages\\git\\remote.py\u001b[0m in \u001b[0;36m_get_fetch_info_from_stderr\u001b[1;34m(self, proc, progress)\u001b[0m\n\u001b[0;32m    700\u001b[0m \u001b[1;33m\u001b[0m\u001b[0m\n\u001b[0;32m    701\u001b[0m         \u001b[0mstderr_text\u001b[0m \u001b[1;33m=\u001b[0m \u001b[0mprogress\u001b[0m\u001b[1;33m.\u001b[0m\u001b[0merror_lines\u001b[0m \u001b[1;32mand\u001b[0m \u001b[1;34m'\\n'\u001b[0m\u001b[1;33m.\u001b[0m\u001b[0mjoin\u001b[0m\u001b[1;33m(\u001b[0m\u001b[0mprogress\u001b[0m\u001b[1;33m.\u001b[0m\u001b[0merror_lines\u001b[0m\u001b[1;33m)\u001b[0m \u001b[1;32mor\u001b[0m \u001b[1;34m''\u001b[0m\u001b[1;33m\u001b[0m\u001b[0m\n\u001b[1;32m--> 702\u001b[1;33m         \u001b[0mproc\u001b[0m\u001b[1;33m.\u001b[0m\u001b[0mwait\u001b[0m\u001b[1;33m(\u001b[0m\u001b[0mstderr\u001b[0m\u001b[1;33m=\u001b[0m\u001b[0mstderr_text\u001b[0m\u001b[1;33m)\u001b[0m\u001b[1;33m\u001b[0m\u001b[0m\n\u001b[0m\u001b[0;32m    703\u001b[0m         \u001b[1;32mif\u001b[0m \u001b[0mstderr_text\u001b[0m\u001b[1;33m:\u001b[0m\u001b[1;33m\u001b[0m\u001b[0m\n\u001b[0;32m    704\u001b[0m             \u001b[0mlog\u001b[0m\u001b[1;33m.\u001b[0m\u001b[0mwarning\u001b[0m\u001b[1;33m(\u001b[0m\u001b[1;34m\"Error lines received while fetching: %s\"\u001b[0m\u001b[1;33m,\u001b[0m \u001b[0mstderr_text\u001b[0m\u001b[1;33m)\u001b[0m\u001b[1;33m\u001b[0m\u001b[0m\n",
      "\u001b[1;32md:\\PYTHON\\lib\\site-packages\\git\\cmd.py\u001b[0m in \u001b[0;36mwait\u001b[1;34m(self, stderr)\u001b[0m\n\u001b[0;32m    445\u001b[0m                     \u001b[0merrstr\u001b[0m \u001b[1;33m=\u001b[0m \u001b[0mread_all_from_possibly_closed_stream\u001b[0m\u001b[1;33m(\u001b[0m\u001b[0mself\u001b[0m\u001b[1;33m.\u001b[0m\u001b[0mproc\u001b[0m\u001b[1;33m.\u001b[0m\u001b[0mstderr\u001b[0m\u001b[1;33m)\u001b[0m\u001b[1;33m\u001b[0m\u001b[0m\n\u001b[0;32m    446\u001b[0m                     \u001b[0mlog\u001b[0m\u001b[1;33m.\u001b[0m\u001b[0mdebug\u001b[0m\u001b[1;33m(\u001b[0m\u001b[1;34m'AutoInterrupt wait stderr: %r'\u001b[0m \u001b[1;33m%\u001b[0m \u001b[1;33m(\u001b[0m\u001b[0merrstr\u001b[0m\u001b[1;33m,\u001b[0m\u001b[1;33m)\u001b[0m\u001b[1;33m)\u001b[0m\u001b[1;33m\u001b[0m\u001b[0m\n\u001b[1;32m--> 447\u001b[1;33m                     \u001b[1;32mraise\u001b[0m \u001b[0mGitCommandError\u001b[0m\u001b[1;33m(\u001b[0m\u001b[0mremove_password_if_present\u001b[0m\u001b[1;33m(\u001b[0m\u001b[0mself\u001b[0m\u001b[1;33m.\u001b[0m\u001b[0margs\u001b[0m\u001b[1;33m)\u001b[0m\u001b[1;33m,\u001b[0m \u001b[0mstatus\u001b[0m\u001b[1;33m,\u001b[0m \u001b[0merrstr\u001b[0m\u001b[1;33m)\u001b[0m\u001b[1;33m\u001b[0m\u001b[0m\n\u001b[0m\u001b[0;32m    448\u001b[0m             \u001b[1;31m# END status handling\u001b[0m\u001b[1;33m\u001b[0m\u001b[1;33m\u001b[0m\u001b[0m\n\u001b[0;32m    449\u001b[0m             \u001b[1;32mreturn\u001b[0m \u001b[0mstatus\u001b[0m\u001b[1;33m\u001b[0m\u001b[0m\n",
      "\u001b[1;31mGitCommandError\u001b[0m: Cmd('git') failed due to: exit code(1)\n  cmdline: git pull -v origin\n  stderr: 'error: Your local changes to the following files would be overwritten by merge:'"
     ]
    }
   ],
   "source": [
    "origin=repo.remotes.origin\n",
    "origin.pull()"
   ]
  },
  {
   "cell_type": "code",
   "execution_count": 14,
   "metadata": {},
   "outputs": [
    {
     "data": {
      "text/plain": [
       "'* Unmerged path BigFolder/bigfolder.py'"
      ]
     },
     "execution_count": 14,
     "metadata": {},
     "output_type": "execute_result"
    }
   ],
   "source": [
    "# git.diff(\"--check\")\n",
    "git.diff(\"--cached\")\n",
    "# git.diff(\"main..origin/main\")\n",
    "# git.diff(\"HEAD\").split(\"\\n\")\n",
    "# git.execute([\"git\",\"pull\"])\n",
    "# git.execute([\"git\",\"status\"]).split(\"\\n\")"
   ]
  }
 ],
 "metadata": {
  "kernelspec": {
   "display_name": "Python 3.6.5 ('base')",
   "language": "python",
   "name": "python3"
  },
  "language_info": {
   "codemirror_mode": {
    "name": "ipython",
    "version": 3
   },
   "file_extension": ".py",
   "mimetype": "text/x-python",
   "name": "python",
   "nbconvert_exporter": "python",
   "pygments_lexer": "ipython3",
   "version": "3.6.5"
  },
  "orig_nbformat": 4,
  "vscode": {
   "interpreter": {
    "hash": "e2aae14933474253bf7e204dfdcd59c9e221c3358c06c5af46c0ae09e251b4f0"
   }
  }
 },
 "nbformat": 4,
 "nbformat_minor": 2
}
